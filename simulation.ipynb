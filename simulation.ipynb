{
 "cells": [
  {
   "cell_type": "code",
   "execution_count": 172,
   "metadata": {
    "scrolled": true
   },
   "outputs": [
    {
     "name": "stdout",
     "output_type": "stream",
     "text": [
      "[[0.   0.   0.7  0.   0.   0.  ]\n",
      " [0.2  0.   0.6  0.   0.   0.  ]\n",
      " [0.   0.   0.   0.8  0.5  0.1 ]\n",
      " [0.   0.   0.   0.   0.   0.66]\n",
      " [0.   0.   0.   0.   0.   0.66]\n",
      " [0.   0.   0.   0.   0.   0.  ]]\n",
      "[[1. 1. 0. 0. 0. 0.]]\n"
     ]
    }
   ],
   "source": [
    "import numpy as np\n",
    "import pandas as pd\n",
    "from cond import CalculateProb\n",
    "from draw import randomDraw\n",
    "import random as rd\n",
    "\n",
    "#PS, EA, MR\n",
    "#read in csv of conditional matrix here. Conditional Matrix contains likelihood that ohter nodes will be infected given\n",
    "#an initial condition that represents which nodes are already compromised. Initial condition(s) are in the csv.\n",
    "conditional  =  pd.read_csv(\"net1.csv\")\n",
    "\n",
    "#seperate out M, the probability matrix, and N the Node matrix\n",
    "numCol = len(conditional.columns)\n",
    "M = np.array(conditional.iloc[0:numCol])\n",
    "N = np.array(conditional.iloc[numCol:numCol+1])\n",
    "print(M)\n",
    "print(N)\n",
    "initN = N[0]\n",
    "N = N[0]"
   ]
  },
  {
   "cell_type": "code",
   "execution_count": 202,
   "metadata": {},
   "outputs": [],
   "source": [
    "#Create a list of nodes that the User wants to watch for compromise. \n",
    "#This list will determine how long the simulation will run. \n",
    "Watch = [1, 1, 0, 1, 1, 1]\n",
    "# Checks to see if the nodes in watch are compromised or not. Returns a boolean.\n",
    "\n",
    "def isCompromised():\n",
    "    count = 0\n",
    "    watch_ones = np.where(np.array(Watch) == 1)\n",
    "    N_ones = np.where(np.array(N) == 1)\n",
    "    return set(watch_ones[0]).issubset(set(N_ones[0]))"
   ]
  },
  {
   "cell_type": "code",
   "execution_count": null,
   "metadata": {},
   "outputs": [],
   "source": []
  },
  {
   "cell_type": "code",
   "execution_count": null,
   "metadata": {},
   "outputs": [],
   "source": []
  },
  {
   "cell_type": "code",
   "execution_count": 211,
   "metadata": {},
   "outputs": [
    {
     "name": "stdout",
     "output_type": "stream",
     "text": [
      "Interation:  0\n",
      "Next Step Prob: [0.2        0.         0.88       0.704      0.44       0.65353899]\n",
      "Next Step Prob: [0.2   0.    0.88  0.8   0.5   0.694]\n",
      "Number of Steps Taken:  2\n",
      "N vector:  [1. 1. 1. 1. 1. 1.]\n",
      "\n",
      "Interation:  1\n",
      "Next Step Prob: [0.2        0.         0.88       0.704      0.44       0.65353899]\n",
      "Next Step Prob: [0.2   0.    0.88  0.8   0.5   0.694]\n",
      "Next Step Prob: [0.2   0.    0.88  0.8   0.5   0.694]\n",
      "Number of Steps Taken:  3\n",
      "N vector:  [1. 1. 1. 1. 1. 1.]\n",
      "\n",
      "Interation:  2\n",
      "Next Step Prob: [0.2        0.         0.88       0.704      0.44       0.65353899]\n",
      "Next Step Prob: [0.2   0.    0.88  0.8   0.5   0.694]\n",
      "Number of Steps Taken:  2\n",
      "N vector:  [1. 1. 1. 1. 1. 1.]\n",
      "\n",
      "Interation:  3\n",
      "Next Step Prob: [0.2        0.         0.88       0.704      0.44       0.65353899]\n",
      "Next Step Prob: [0.2  0.   0.88 0.   0.   0.66]\n",
      "Next Step Prob: [0.2   0.    0.88  0.8   0.5   0.694]\n",
      "Next Step Prob: [0.2   0.    0.88  0.8   0.5   0.694]\n",
      "Number of Steps Taken:  4\n",
      "N vector:  [1. 1. 1. 1. 1. 1.]\n",
      "\n",
      "Interation:  4\n",
      "Next Step Prob: [0.2        0.         0.88       0.704      0.44       0.65353899]\n",
      "Next Step Prob: [0.2   0.    0.88  0.8   0.5   0.694]\n",
      "Number of Steps Taken:  2\n",
      "N vector:  [1. 1. 1. 1. 1. 1.]\n",
      "\n",
      "Interation:  5\n",
      "Next Step Prob: [0.2        0.         0.88       0.704      0.44       0.65353899]\n",
      "Next Step Prob: [0.2   0.    0.88  0.8   0.5   0.694]\n",
      "Number of Steps Taken:  2\n",
      "N vector:  [1. 1. 1. 1. 1. 1.]\n",
      "\n",
      "Interation:  6\n",
      "Next Step Prob: [0.2        0.         0.88       0.704      0.44       0.65353899]\n",
      "Next Step Prob: [0.2   0.    0.88  0.8   0.5   0.694]\n",
      "Next Step Prob: [0.2     0.      0.88    0.8     0.5     0.89596]\n",
      "Number of Steps Taken:  3\n",
      "N vector:  [1. 1. 1. 1. 1. 1.]\n",
      "\n",
      "Interation:  7\n",
      "Next Step Prob: [0.2        0.         0.88       0.704      0.44       0.65353899]\n",
      "Next Step Prob: [0.2   0.    0.88  0.8   0.5   0.694]\n",
      "Next Step Prob: [0.2   0.    0.88  0.8   0.5   0.694]\n",
      "Number of Steps Taken:  3\n",
      "N vector:  [1. 1. 1. 1. 1. 1.]\n",
      "\n",
      "Interation:  8\n",
      "Next Step Prob: [0.2        0.         0.88       0.704      0.44       0.65353899]\n",
      "Next Step Prob: [0.2   0.    0.88  0.8   0.5   0.694]\n",
      "Next Step Prob: [0.2   0.    0.88  0.8   0.5   0.694]\n",
      "Number of Steps Taken:  3\n",
      "N vector:  [1. 1. 1. 1. 1. 1.]\n",
      "\n",
      "Interation:  9\n",
      "Next Step Prob: [0.2        0.         0.88       0.704      0.44       0.65353899]\n",
      "Next Step Prob: [0.2  0.   0.88 0.8  0.5  0.1 ]\n",
      "Next Step Prob: [0.2   0.    0.88  0.8   0.5   0.694]\n",
      "Next Step Prob: [0.2   0.    0.88  0.8   0.5   0.694]\n",
      "Number of Steps Taken:  4\n",
      "N vector:  [1. 1. 1. 1. 1. 1.]\n",
      "\n"
     ]
    }
   ],
   "source": [
    "n = 10 # Number of iterations\n",
    "num_steps = []\n",
    "for i in range(n):\n",
    "    print(\"Interation: \", i)\n",
    "    N = initN\n",
    "    count = 0\n",
    "    while(not isCompromised()):\n",
    "        p = CalculateProb(M,N)\n",
    "        for j in range(len(p)):\n",
    "            if(N[j] != 1):\n",
    "                N[j] = p[j]\n",
    "        print(\"Next Step Prob:\", p)\n",
    "        N = randomDraw(N)\n",
    "        count = count + 1\n",
    "    num_steps.append(count)\n",
    "    print(\"Number of Steps Taken: \", num_steps[len(num_steps)-1])\n",
    "    print(\"N vector: \", N)\n",
    "    print(\"\")\n"
   ]
  },
  {
   "cell_type": "code",
   "execution_count": null,
   "metadata": {},
   "outputs": [],
   "source": []
  },
  {
   "cell_type": "code",
   "execution_count": null,
   "metadata": {},
   "outputs": [],
   "source": []
  }
 ],
 "metadata": {
  "kernelspec": {
   "display_name": "Python 3",
   "language": "python",
   "name": "python3"
  },
  "language_info": {
   "codemirror_mode": {
    "name": "ipython",
    "version": 3
   },
   "file_extension": ".py",
   "mimetype": "text/x-python",
   "name": "python",
   "nbconvert_exporter": "python",
   "pygments_lexer": "ipython3",
   "version": "3.7.0"
  }
 },
 "nbformat": 4,
 "nbformat_minor": 2
}
