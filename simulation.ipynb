{
 "cells": [
  {
   "cell_type": "code",
   "execution_count": 94,
   "metadata": {
    "scrolled": true
   },
   "outputs": [
    {
     "name": "stdout",
     "output_type": "stream",
     "text": [
      "[[0.   0.   0.7  0.   0.   0.  ]\n",
      " [0.2  0.   0.6  0.   0.   0.  ]\n",
      " [0.   0.   0.   0.8  0.5  0.1 ]\n",
      " [0.   0.   0.   0.   0.   0.66]\n",
      " [0.   0.   0.   0.   0.   0.66]\n",
      " [0.   0.   0.   0.   0.   0.  ]]\n",
      "[[1. 1. 0. 0. 0. 0.]]\n"
     ]
    }
   ],
   "source": [
    "import numpy as np\n",
    "import pandas as pd\n",
    "from cond import CalculateProb\n",
    "from draw import randomDraw\n",
    "import random as rd\n",
    "\n",
    "#PS, EA, MR\n",
    "#read in csv of conditional matrix here. Conditional Matrix contains likelihood that ohter nodes will be infected given\n",
    "#an initial condition that represents which nodes are already compromised. Initial condition(s) are in the csv.\n",
    "conditional  =  pd.read_csv(\"net1.csv\")\n",
    "\n",
    "#seperate out M, the probability matrix, and N the Node matrix\n",
    "numCol = len(conditional.columns)\n",
    "M = np.array(conditional.iloc[0:numCol])\n",
    "N = np.array(conditional.iloc[numCol:numCol+1])\n",
    "print(M)\n",
    "print(N)\n",
    "N = N[0]\n",
    "\n"
   ]
  },
  {
   "cell_type": "code",
   "execution_count": 90,
   "metadata": {},
   "outputs": [],
   "source": [
    "#Create a list of nodes that the User wants to watch for compromise. \n",
    "#This list will determine how long the simulation will run. \n",
    "Watch = [1, 1, 0, 1, 1, 1]\n",
    "# Checks to see if the nodes in watch are compromised or not. Returns a boolean.\n",
    "\n",
    "def isCompromised():\n",
    "    compromisedNodes = Watch.count(1)\n",
    "    count = 0\n",
    "    for i in range(len(Watch)):\n",
    "        if(Watch[i] == N[i]):\n",
    "            count= count+1\n",
    "    if(compromisedNodes == count):\n",
    "        return True\n",
    "    return False"
   ]
  },
  {
   "cell_type": "code",
   "execution_count": 91,
   "metadata": {},
   "outputs": [
    {
     "name": "stdout",
     "output_type": "stream",
     "text": [
      "[0.2  0.   0.88 0.   0.   0.  ]\n",
      "Next Comprosied State:  [1. 1. 1. 0. 0. 0.]\n"
     ]
    }
   ],
   "source": [
    "#Calculate Probabilities and update N for next step\n",
    "p = CalculateProb(M,N)\n",
    "print(p)\n",
    "\n",
    "for i in range(len(p)):\n",
    "    if(N[i] != 1):\n",
    "        N[i] = p[i]\n",
    "N = randomDraw(N)\n",
    "print(\"Next Comprosied State: \", N)"
   ]
  },
  {
   "cell_type": "code",
   "execution_count": 95,
   "metadata": {},
   "outputs": [
    {
     "name": "stdout",
     "output_type": "stream",
     "text": [
      "Number of Steps Taken:  [5]\n",
      "N vector:  [1. 1. 1. 1. 1. 1.]\n"
     ]
    }
   ],
   "source": [
    "n = 5 # Number of iterations\n",
    "num_steps = []\n",
    "for i in range(n):\n",
    "    p = CalculateProb(M,N)\n",
    "    for j in range(len(p)):\n",
    "        if(N[j] != 1):\n",
    "            N[j] = p[i]\n",
    "    N = randomDraw(N)\n",
    "    if(isCompromised()):\n",
    "        num_steps.append(n)\n",
    "        break\n",
    "print(\"Number of Steps Taken: \", num_steps)\n",
    "print(\"N vector: \", N)"
   ]
  },
  {
   "cell_type": "code",
   "execution_count": null,
   "metadata": {},
   "outputs": [],
   "source": []
  },
  {
   "cell_type": "code",
   "execution_count": null,
   "metadata": {},
   "outputs": [],
   "source": []
  }
 ],
 "metadata": {
  "kernelspec": {
   "display_name": "Python 3",
   "language": "python",
   "name": "python3"
  },
  "language_info": {
   "codemirror_mode": {
    "name": "ipython",
    "version": 3
   },
   "file_extension": ".py",
   "mimetype": "text/x-python",
   "name": "python",
   "nbconvert_exporter": "python",
   "pygments_lexer": "ipython3",
   "version": "3.7.0"
  }
 },
 "nbformat": 4,
 "nbformat_minor": 2
}
