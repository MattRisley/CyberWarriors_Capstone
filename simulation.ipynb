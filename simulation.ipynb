{
 "cells": [
  {
   "cell_type": "code",
   "execution_count": 79,
   "metadata": {},
   "outputs": [
    {
     "name": "stdout",
     "output_type": "stream",
     "text": [
      "[[1. 1. 0. 0. 0. 0.]]\n"
     ]
    }
   ],
   "source": [
    "import numpy as np\n",
    "import pandas as pd\n",
    "from cond import CalculateProb\n",
    "from draw import randomDraw\n",
    "import random as rd\n",
    "#PS, EA, MR\n",
    "#read in csv of conditional matrix here. Conditional Matrix contains likelihood that ohter nodes will be infected given\n",
    "#an initial condition that represents which nodes are already compromised. Initial condition(s) are in the csv.\n",
    "conditional  =  pd.read_csv(\"net1.csv\")\n",
    "\n",
    "#seperate out M, the probability matrix, and N the Node matrix\n",
    "numCol = len(conditional.columns)\n",
    "M = np.array(conditional.iloc[0:numCol])\n",
    "N = np.array(conditional.iloc[numCol:numCol+1])\n",
    "print(N)\n",
    "N = N[0]"
   ]
  },
  {
   "cell_type": "code",
   "execution_count": 89,
   "metadata": {},
   "outputs": [
    {
     "name": "stdout",
     "output_type": "stream",
     "text": [
      "[1.0, 1.0, 0.0, 0.0, 0.0, 0.0]\n"
     ]
    }
   ],
   "source": [
    "#Create a list of nodes that the User wants to watch for compromise. \n",
    "#This list will determine how long the simulation will run. \n",
    "Watch = N.tolist()\n",
    "print (Watch)"
   ]
  },
  {
   "cell_type": "code",
   "execution_count": 94,
   "metadata": {},
   "outputs": [
    {
     "data": {
      "text/plain": [
       "True"
      ]
     },
     "execution_count": 94,
     "metadata": {},
     "output_type": "execute_result"
    }
   ],
   "source": [
    "# Checks to see if the nodes in watch are compromised or not. Returns a boolean.\n",
    "def isCompromised(Watch):\n",
    "    if(Watch.count(1)>1):\n",
    "        return True\n",
    "    return False\n",
    "\n",
    "isCompromised(Watch)"
   ]
  },
  {
   "cell_type": "code",
   "execution_count": 95,
   "metadata": {},
   "outputs": [
    {
     "data": {
      "text/plain": [
       "array([1., 1., 0., 0., 0., 0.])"
      ]
     },
     "execution_count": 95,
     "metadata": {},
     "output_type": "execute_result"
    }
   ],
   "source": [
    "randomDraw(Watch)\n"
   ]
  },
  {
   "cell_type": "code",
   "execution_count": 106,
   "metadata": {},
   "outputs": [
    {
     "name": "stdout",
     "output_type": "stream",
     "text": [
      "[0.2        0.         0.88       0.704      0.44       0.65353899]\n",
      "[1.    1.    0.88  0.704 0.44  0.088]\n"
     ]
    }
   ],
   "source": [
    "#Calculate Probabilities and update N for next step\n",
    "p = CalculateProb(M,N)\n",
    "print(p)\n",
    "for i in range(len(p)):\n",
    "    if(N[i] == 0):\n",
    "        N[i] = p[i]\n",
    "print(N)"
   ]
  },
  {
   "cell_type": "code",
   "execution_count": null,
   "metadata": {},
   "outputs": [],
   "source": []
  }
 ],
 "metadata": {
  "kernelspec": {
   "display_name": "Python 3",
   "language": "python",
   "name": "python3"
  },
  "language_info": {
   "codemirror_mode": {
    "name": "ipython",
    "version": 3
   },
   "file_extension": ".py",
   "mimetype": "text/x-python",
   "name": "python",
   "nbconvert_exporter": "python",
   "pygments_lexer": "ipython3",
   "version": "3.7.0"
  }
 },
 "nbformat": 4,
 "nbformat_minor": 2
}
