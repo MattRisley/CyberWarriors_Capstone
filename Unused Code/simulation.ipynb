{
 "cells": [
  {
   "cell_type": "code",
   "execution_count": 3,
   "metadata": {},
   "outputs": [
    {
     "ename": "ModuleNotFoundError",
     "evalue": "No module named 'networkx'",
     "output_type": "error",
     "traceback": [
      "\u001b[0;31m---------------------------------------------------------------------------\u001b[0m",
      "\u001b[0;31mModuleNotFoundError\u001b[0m                       Traceback (most recent call last)",
      "\u001b[0;32m<ipython-input-3-6eb803456378>\u001b[0m in \u001b[0;36m<module>\u001b[0;34m\u001b[0m\n\u001b[1;32m      8\u001b[0m \u001b[0;32mfrom\u001b[0m \u001b[0mgenerator\u001b[0m \u001b[0;32mimport\u001b[0m \u001b[0mgen_states\u001b[0m\u001b[0;34m\u001b[0m\u001b[0m\n\u001b[1;32m      9\u001b[0m \u001b[0;32mfrom\u001b[0m \u001b[0mgenerator\u001b[0m \u001b[0;32mimport\u001b[0m \u001b[0mwatch\u001b[0m\u001b[0;34m\u001b[0m\u001b[0m\n\u001b[0;32m---> 10\u001b[0;31m \u001b[0;32mimport\u001b[0m \u001b[0mPlotting\u001b[0m\u001b[0;34m\u001b[0m\u001b[0m\n\u001b[0m\u001b[1;32m     11\u001b[0m \u001b[0;34m\u001b[0m\u001b[0m\n\u001b[1;32m     12\u001b[0m \u001b[0;34m\u001b[0m\u001b[0m\n",
      "\u001b[0;32m~/Documents/CMDA 4864/CyberWarriors_Capstone/Plotting.py\u001b[0m in \u001b[0;36m<module>\u001b[0;34m\u001b[0m\n\u001b[1;32m      1\u001b[0m \u001b[0;31m#Matrix Plot\u001b[0m\u001b[0;34m\u001b[0m\u001b[0;34m\u001b[0m\u001b[0m\n\u001b[1;32m      2\u001b[0m \u001b[0;32mimport\u001b[0m \u001b[0mmatplotlib\u001b[0m\u001b[0;34m.\u001b[0m\u001b[0mpyplot\u001b[0m \u001b[0;32mas\u001b[0m \u001b[0mplt\u001b[0m\u001b[0;34m\u001b[0m\u001b[0m\n\u001b[0;32m----> 3\u001b[0;31m \u001b[0;32mimport\u001b[0m \u001b[0mnetworkx\u001b[0m \u001b[0;32mas\u001b[0m \u001b[0mnx\u001b[0m\u001b[0;34m\u001b[0m\u001b[0m\n\u001b[0m\u001b[1;32m      4\u001b[0m \u001b[0;32mimport\u001b[0m \u001b[0mnumpy\u001b[0m \u001b[0;32mas\u001b[0m \u001b[0mnp\u001b[0m\u001b[0;34m\u001b[0m\u001b[0m\n\u001b[1;32m      5\u001b[0m \u001b[0;32mimport\u001b[0m \u001b[0mseaborn\u001b[0m \u001b[0;32mas\u001b[0m \u001b[0msns\u001b[0m\u001b[0;34m\u001b[0m\u001b[0m\n",
      "\u001b[0;31mModuleNotFoundError\u001b[0m: No module named 'networkx'"
     ]
    }
   ],
   "source": [
    "import numpy as np\n",
    "import pandas as pd\n",
    "import matplotlib.pyplot as plt\n",
    "from cond import CalculateProb\n",
    "from draw import randomDraw\n",
    "import random as rd\n",
    "from generator import gen_network\n",
    "from generator import gen_states\n",
    "from generator import watch\n",
    "import Plotting \n",
    "\n",
    "\n",
    "#PS, EA, MR\n",
    "#read in csv of conditional matrix here. Conditional Matrix contains likelihood that ohter nodes will be infected given\n",
    "#an initial condition that represents which nodes are already compromised. Initial condition(s) are in the csv.\n",
    "conditional  =  pd.read_csv(\"net1.csv\")\n",
    "size = 10\n",
    "#seperate out M, the probability matrix, and N the Node matrix\n",
    "numCol = len(conditional.columns)\n",
    "M = gen_network(size)\n",
    "N = gen_states(size)\n",
    "print(M)\n",
    "print(N)\n",
    "initN = N\n",
    "\n",
    "\n",
    "#Create a list of nodes that the User wants to watch for compromise. \n",
    "#This list will determine how long the simulation will run. \n",
    "Watch = watch(size)\n",
    "print(\"Watch Vector:\", Watch)\n",
    "# Checks to see if the nodes in watch are compromised or not. Returns a boolean.\n",
    "def isCompromised():\n",
    "    count = 0\n",
    "    watch_ones = np.where(np.array(Watch) == 1)\n",
    "    N_ones = np.where(np.array(N) == 1)\n",
    "    return set(watch_ones[0]).issubset(set(N_ones[0]))\n",
    "\n",
    "\n",
    "n = 10 # Number of iterations\n",
    "num_steps = []\n",
    "for i in range(n):\n",
    "    #print(\"Interation: \", i)\n",
    "    N = initN\n",
    "    count = 0\n",
    "    while(not isCompromised()):\n",
    "        p = CalculateProb(M,N)\n",
    "        for j in range(len(p)):\n",
    "            if(N[j] != 1):\n",
    "                N[j] = p[j]\n",
    "        #print(\"Next Step Prob:\", p)\n",
    "        N = randomDraw(N)\n",
    "        count = count + 1\n",
    "    num_steps.append(count)\n",
    "    #print(\"Number of Steps Taken: \", num_steps[len(num_steps)-1])\n",
    "    #print(\"N vector: \", N)\n",
    "    #print(\"\")\n",
    "print(\"Number of Steps Taken: \", num_steps)\n",
    "\n",
    "Plotting.plotMatrix(M)\n",
    "Plotting.barChart(num_steps)"
   ]
  },
  {
   "cell_type": "code",
   "execution_count": 43,
   "metadata": {},
   "outputs": [
    {
     "name": "stdout",
     "output_type": "stream",
     "text": [
      "[[0.28 0.28 0.28 0.28 0.56 0.28 0.28 0.28 0.57 0.28]\n",
      " [0.28 0.28 0.28 0.07 0.28 0.28 0.64 0.28 0.28 0.28]\n",
      " [0.31 0.28 0.31 0.28 0.28 0.28 0.28 0.56 0.07 0.28]\n",
      " [0.28 0.28 0.28 0.28 0.28 0.28 0.07 0.28 0.07 0.31]\n",
      " [0.07 0.28 0.28 0.28 0.57 0.28 0.07 0.28 0.28 0.07]\n",
      " [0.31 0.28 0.28 0.07 0.28 0.28 0.28 0.56 0.07 0.31]\n",
      " [0.31 0.56 0.28 0.28 0.31 0.28 0.28 0.28 0.28 0.07]\n",
      " [0.54 0.28 0.28 0.28 0.28 0.28 0.   0.31 0.31 0.28]\n",
      " [0.07 0.56 0.31 0.28 0.   0.28 0.28 0.28 0.28 0.28]\n",
      " [0.28 0.28 0.28 0.   0.64 0.28 0.28 0.56 0.07 0.28]]\n",
      "10\n"
     ]
    }
   ],
   "source": [
    "cvcData = pd.read_csv(\"MS10PrivData.csv\")\n",
    "scoreVector = 1- cvcData['Score']*0.10\n",
    "#print(scoreVector)\n",
    "n =10\n",
    "#network = np.full((n,n), scoreVector)\n",
    "network = scoreVector\n",
    "network = np.array(network)\n",
    "#print(scoreVector)\n",
    "network = np.random.choice(scoreVector, n*n)\n",
    "network = np.reshape(network, (n,n), 'F')\n",
    "print(network)\n",
    "np.fill_diagonal(network, 1)\n",
    "network = np.triu(network, 0) \n",
    "for i in range(n):\n",
    "    np.fill_diagonal(network[:,(i+5 %n):], 0)\n",
    "print(len(network))\n",
    "#print(100-(cvcData.score*10))"
   ]
  },
  {
   "cell_type": "code",
   "execution_count": null,
   "metadata": {},
   "outputs": [],
   "source": []
  },
  {
   "cell_type": "code",
   "execution_count": null,
   "metadata": {},
   "outputs": [],
   "source": []
  }
 ],
 "metadata": {
  "kernelspec": {
   "display_name": "Python 3",
   "language": "python",
   "name": "python3"
  },
  "language_info": {
   "codemirror_mode": {
    "name": "ipython",
    "version": 3
   },
   "file_extension": ".py",
   "mimetype": "text/x-python",
   "name": "python",
   "nbconvert_exporter": "python",
   "pygments_lexer": "ipython3",
   "version": "3.7.0"
  }
 },
 "nbformat": 4,
 "nbformat_minor": 2
}
