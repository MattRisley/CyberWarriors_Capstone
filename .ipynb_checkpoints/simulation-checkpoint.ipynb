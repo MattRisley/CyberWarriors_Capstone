{
 "cells": [
  {
   "cell_type": "code",
   "execution_count": null,
   "metadata": {},
   "outputs": [
    {
     "name": "stdout",
     "output_type": "stream",
     "text": [
      "[[0.   0.48 0.   ... 0.   0.   0.  ]\n",
      " [0.   0.   0.43 ... 0.   0.   0.  ]\n",
      " [0.   0.   0.   ... 0.   0.   0.  ]\n",
      " ...\n",
      " [0.   0.   0.   ... 0.   0.67 0.  ]\n",
      " [0.   0.   0.   ... 0.   0.   0.52]\n",
      " [0.   0.   0.   ... 0.   0.   0.  ]]\n",
      "[1. 1. 0. 0. 0. 0. 0. 0. 0. 0. 0. 0. 0. 0. 0. 0. 0. 0. 0. 0. 0. 0. 0. 0.\n",
      " 0. 0. 0. 0. 0. 0. 0. 0. 0. 0. 0. 0. 0. 0. 0. 0. 0. 0. 0. 0. 0. 0. 0. 0.\n",
      " 0. 0. 0. 0. 0. 0. 0. 0. 0. 0. 0. 0. 0. 0. 0. 0. 0. 0. 0. 0. 0. 0. 0. 0.\n",
      " 0. 0. 0. 0. 0. 0. 0. 0. 0. 0. 0. 0. 0. 0. 0. 0. 0. 0. 0. 0. 0. 0. 0. 0.\n",
      " 0. 0. 0. 0.]\n",
      "Watch Vector: [1 1 1 0 1 1 0 1 0 1 0 1 0 1 0 1 0 0 0 1 1 0 0 1 1 1 0 0 1 1 0 0 1 0 1 1 1\n",
      " 0 1 1 1 0 0 0 1 0 1 0 1 1 0 0 0 0 1 1 1 1 1 0 1 1 0 1 0 0 1 0 1 0 1 0 1 0\n",
      " 1 0 0 0 1 1 1 1 1 1 1 1 0 1 1 1 0 1 1 1 0 1 1 0 0 1]\n"
     ]
    }
   ],
   "source": [
    "import numpy as np\n",
    "import pandas as pd\n",
    "import matplotlib.pyplot as plt\n",
    "from cond import CalculateProb\n",
    "from draw import randomDraw\n",
    "import random as rd\n",
    "from generator import gen_network\n",
    "from generator import gen_states\n",
    "from generator import watch\n",
    "import Plotting \n",
    "\n",
    "\n",
    "#PS, EA, MR\n",
    "#read in csv of conditional matrix here. Conditional Matrix contains likelihood that ohter nodes will be infected given\n",
    "#an initial condition that represents which nodes are already compromised. Initial condition(s) are in the csv.\n",
    "conditional  =  pd.read_csv(\"net1.csv\")\n",
    "size = 10\n",
    "#seperate out M, the probability matrix, and N the Node matrix\n",
    "numCol = len(conditional.columns)\n",
    "M = gen_network(size)\n",
    "N = gen_states(size)\n",
    "print(M)\n",
    "print(N)\n",
    "initN = N\n",
    "\n",
    "\n",
    "#Create a list of nodes that the User wants to watch for compromise. \n",
    "#This list will determine how long the simulation will run. \n",
    "Watch = watch(size)\n",
    "print(\"Watch Vector:\", Watch)\n",
    "# Checks to see if the nodes in watch are compromised or not. Returns a boolean.\n",
    "def isCompromised():\n",
    "    count = 0\n",
    "    watch_ones = np.where(np.array(Watch) == 1)\n",
    "    N_ones = np.where(np.array(N) == 1)\n",
    "    return set(watch_ones[0]).issubset(set(N_ones[0]))\n",
    "\n",
    "\n",
    "n = 10 # Number of iterations\n",
    "num_steps = []\n",
    "for i in range(n):\n",
    "    #print(\"Interation: \", i)\n",
    "    N = initN\n",
    "    count = 0\n",
    "    while(not isCompromised()):\n",
    "        p = CalculateProb(M,N)\n",
    "        for j in range(len(p)):\n",
    "            if(N[j] != 1):\n",
    "                N[j] = p[j]\n",
    "        #print(\"Next Step Prob:\", p)\n",
    "        N = randomDraw(N)\n",
    "        count = count + 1\n",
    "    num_steps.append(count)\n",
    "    #print(\"Number of Steps Taken: \", num_steps[len(num_steps)-1])\n",
    "    #print(\"N vector: \", N)\n",
    "    #print(\"\")\n",
    "print(\"Number of Steps Taken: \", num_steps)"
   ]
  },
  {
   "cell_type": "code",
   "execution_count": null,
   "metadata": {},
   "outputs": [],
   "source": [
    "Plotting.plotMatrix(M)\n",
    "Plotting.barChart(num_steps)"
   ]
  }
 ],
 "metadata": {
  "kernelspec": {
   "display_name": "Python 3",
   "language": "python",
   "name": "python3"
  },
  "language_info": {
   "codemirror_mode": {
    "name": "ipython",
    "version": 3
   },
   "file_extension": ".py",
   "mimetype": "text/x-python",
   "name": "python",
   "nbconvert_exporter": "python",
   "pygments_lexer": "ipython3",
   "version": "3.7.0"
  }
 },
 "nbformat": 4,
 "nbformat_minor": 2
}
