{
 "cells": [
  {
   "cell_type": "code",
   "execution_count": 215,
   "metadata": {
    "scrolled": true
   },
   "outputs": [
    {
     "name": "stdout",
     "output_type": "stream",
     "text": [
      "[[0.   0.   0.7  0.   0.   0.  ]\n",
      " [0.2  0.   0.6  0.   0.   0.  ]\n",
      " [0.   0.   0.   0.8  0.5  0.1 ]\n",
      " [0.   0.   0.   0.   0.   0.66]\n",
      " [0.   0.   0.   0.   0.   0.66]\n",
      " [0.   0.   0.   0.   0.   0.  ]]\n",
      "[[1. 1. 0. 0. 0. 0.]]\n"
     ]
    }
   ],
   "source": [
    "import numpy as np\n",
    "import pandas as pd\n",
    "import matplotlib.pyplot as plt\n",
    "from cond import CalculateProb\n",
    "from draw import randomDraw\n",
    "import random as rd\n",
    "\n",
    "#PS, EA, MR\n",
    "#read in csv of conditional matrix here. Conditional Matrix contains likelihood that ohter nodes will be infected given\n",
    "#an initial condition that represents which nodes are already compromised. Initial condition(s) are in the csv.\n",
    "conditional  =  pd.read_csv(\"net1.csv\")\n",
    "\n",
    "#seperate out M, the probability matrix, and N the Node matrix\n",
    "numCol = len(conditional.columns)\n",
    "M = np.array(conditional.iloc[0:numCol])\n",
    "N = np.array(conditional.iloc[numCol:numCol+1])\n",
    "print(M)\n",
    "print(N)\n",
    "initN = N[0]\n",
    "N = N[0]"
   ]
  },
  {
   "cell_type": "code",
   "execution_count": 202,
   "metadata": {},
   "outputs": [],
   "source": [
    "#Create a list of nodes that the User wants to watch for compromise. \n",
    "#This list will determine how long the simulation will run. \n",
    "Watch = [1, 1, 0, 1, 1, 1]\n",
    "# Checks to see if the nodes in watch are compromised or not. Returns a boolean.\n",
    "\n",
    "def isCompromised():\n",
    "    count = 0\n",
    "    watch_ones = np.where(np.array(Watch) == 1)\n",
    "    N_ones = np.where(np.array(N) == 1)\n",
    "    return set(watch_ones[0]).issubset(set(N_ones[0]))"
   ]
  },
  {
   "cell_type": "code",
   "execution_count": null,
   "metadata": {},
   "outputs": [],
   "source": []
  },
  {
   "cell_type": "code",
   "execution_count": null,
   "metadata": {},
   "outputs": [],
   "source": []
  },
  {
   "cell_type": "code",
   "execution_count": 229,
   "metadata": {},
   "outputs": [],
   "source": [
    "n = 1000000 # Number of iterations\n",
    "num_steps = []\n",
    "for i in range(n):\n",
    "    #print(\"Interation: \", i)\n",
    "    N = initN\n",
    "    count = 0\n",
    "    while(not isCompromised()):\n",
    "        p = CalculateProb(M,N)\n",
    "        for j in range(len(p)):\n",
    "            if(N[j] != 1):\n",
    "                N[j] = p[j]\n",
    "        #print(\"Next Step Prob:\", p)\n",
    "        N = randomDraw(N)\n",
    "        count = count + 1\n",
    "    num_steps.append(count)\n",
    "    #print(\"Number of Steps Taken: \", num_steps[len(num_steps)-1])\n",
    "    #print(\"N vector: \", N)\n",
    "    #print(\"\")\n",
    "#print(\"Number of Steps Taken: \", num_steps)"
   ]
  },
  {
   "cell_type": "code",
   "execution_count": 233,
   "metadata": {},
   "outputs": [
    {
     "data": {
      "text/plain": [
       "(array([2.24321111e-01, 4.15080000e-01, 2.55618889e-01, 1.16663333e-01,\n",
       "        5.24866667e-02, 2.40300000e-02, 1.16311111e-02, 5.68555556e-03,\n",
       "        2.80111111e-03, 0.00000000e+00, 1.43444444e-03, 6.66666667e-04,\n",
       "        3.54444444e-04, 1.82222222e-04, 7.77777778e-05, 3.88888889e-05,\n",
       "        2.00000000e-05, 1.44444444e-05, 2.22222222e-06, 2.22222222e-06]),\n",
       " array([ 1. ,  1.9,  2.8,  3.7,  4.6,  5.5,  6.4,  7.3,  8.2,  9.1, 10. ,\n",
       "        10.9, 11.8, 12.7, 13.6, 14.5, 15.4, 16.3, 17.2, 18.1, 19. ]),\n",
       " <a list of 20 Patch objects>)"
      ]
     },
     "execution_count": 233,
     "metadata": {},
     "output_type": "execute_result"
    },
    {
     "data": {
      "image/png": "[encoded data removed]",
      "text/plain": [
       "<Figure size 432x288 with 1 Axes>"
      ]
     },
     "metadata": {
      "needs_background": "light"
     },
     "output_type": "display_data"
    }
   ],
   "source": [
    "len(num_steps)\n",
    "plt.hist(num_steps, density=True, bins = 20)"
   ]
  },
  {
   "cell_type": "code",
   "execution_count": 1,
   "metadata": {},
   "outputs": [
    {
     "name": "stdout",
     "output_type": "stream",
     "text": [
      "[[0.   0.89 0.75 ... 0.   0.   0.  ]\n",
      " [0.   0.   0.78 ... 0.   0.   0.  ]\n",
      " [0.   0.   0.   ... 0.   0.   0.  ]\n",
      " ...\n",
      " [0.   0.   0.   ... 0.   0.12 0.58]\n",
      " [0.   0.   0.   ... 0.   0.   0.44]\n",
      " [0.   0.   0.   ... 0.   0.   0.  ]]\n",
      "[1. 1. 0. 0. 0. 0. 0. 0. 0. 0. 0. 0. 0. 0. 0. 0. 0. 0. 0. 0. 0. 0. 0. 0.\n",
      " 0. 0. 0. 0. 0. 0. 0. 0. 0. 0. 0. 0. 0. 0. 0. 0. 0. 0. 0. 0. 0. 0. 0. 0.\n",
      " 0. 0. 0. 0. 0. 0. 0. 0. 0. 0. 0. 0. 0. 0. 0. 0. 0. 0. 0. 0. 0. 0. 0. 0.\n",
      " 0. 0. 0. 0. 0. 0. 0. 0. 0. 0. 0. 0. 0. 0. 0. 0. 0. 0. 0. 0. 0. 0. 0. 0.\n",
      " 0. 0. 0. 0.]\n",
      "Watch Vector: [1 1 1 1 0 0 1 0 0 0 0 0 1 1 0 0 0 0 1 0 0 1 1 1 1 1 0 1 1 0 0 1 1 0 1 0 0\n",
      " 0 1 1 0 1 0 0 1 0 1 1 1 1 0 1 0 1 0 0 1 0 1 0 0 0 0 0 1 0 1 0 1 0 0 0 0 0\n",
      " 0 1 1 1 1 0 0 0 0 1 0 1 0 1 1 0 1 0 1 1 0 1 0 1 1 0]\n",
      "Number of Steps Taken:  [46, 41, 41, 45, 43, 37, 42, 35, 38, 32]\n"
     ]
    }
   ],
   "source": [
    "import numpy as np\n",
    "import pandas as pd\n",
    "import matplotlib.pyplot as plt\n",
    "from cond import CalculateProb\n",
    "from draw import randomDraw\n",
    "import random as rd\n",
    "from generator import gen_network\n",
    "from generator import gen_states\n",
    "from generator import watch\n",
    "\n",
    "\n",
    "#PS, EA, MR\n",
    "#read in csv of conditional matrix here. Conditional Matrix contains likelihood that ohter nodes will be infected given\n",
    "#an initial condition that represents which nodes are already compromised. Initial condition(s) are in the csv.\n",
    "conditional  =  pd.read_csv(\"net1.csv\")\n",
    "size = 100\n",
    "#seperate out M, the probability matrix, and N the Node matrix\n",
    "numCol = len(conditional.columns)\n",
    "M = gen_network(size)\n",
    "N = gen_states(size)\n",
    "print(M)\n",
    "print(N)\n",
    "initN = N\n",
    "\n",
    "\n",
    "\n",
    "\n",
    "#Create a list of nodes that the User wants to watch for compromise. \n",
    "#This list will determine how long the simulation will run. \n",
    "Watch = watch(size)\n",
    "print(\"Watch Vector:\", Watch)\n",
    "# Checks to see if the nodes in watch are compromised or not. Returns a boolean.\n",
    "def isCompromised():\n",
    "    count = 0\n",
    "    watch_ones = np.where(np.array(Watch) == 1)\n",
    "    N_ones = np.where(np.array(N) == 1)\n",
    "    return set(watch_ones[0]).issubset(set(N_ones[0]))\n",
    "\n",
    "\n",
    "n = 10 # Number of iterations\n",
    "num_steps = []\n",
    "for i in range(n):\n",
    "    #print(\"Interation: \", i)\n",
    "    N = initN\n",
    "    count = 0\n",
    "    while(not isCompromised()):\n",
    "        p = CalculateProb(M,N)\n",
    "        for j in range(len(p)):\n",
    "            if(N[j] != 1):\n",
    "                N[j] = p[j]\n",
    "        #print(\"Next Step Prob:\", p)\n",
    "        N = randomDraw(N)\n",
    "        count = count + 1\n",
    "    num_steps.append(count)\n",
    "    #print(\"Number of Steps Taken: \", num_steps[len(num_steps)-1])\n",
    "    #print(\"N vector: \", N)\n",
    "    #print(\"\")\n",
    "print(\"Number of Steps Taken: \", num_steps)"
   ]
  },
  {
   "cell_type": "code",
   "execution_count": null,
   "metadata": {},
   "outputs": [],
   "source": []
  }
 ],
 "metadata": {
  "kernelspec": {
   "display_name": "Python 3",
   "language": "python",
   "name": "python3"
  },
  "language_info": {
   "codemirror_mode": {
    "name": "ipython",
    "version": 3
   },
   "file_extension": ".py",
   "mimetype": "text/x-python",
   "name": "python",
   "nbconvert_exporter": "python",
   "pygments_lexer": "ipython3",
   "version": "3.7.0"
  }
 },
 "nbformat": 4,
 "nbformat_minor": 2
}
